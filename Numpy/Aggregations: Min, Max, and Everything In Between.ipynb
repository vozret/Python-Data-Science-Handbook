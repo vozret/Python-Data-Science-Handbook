{
 "cells": [
  {
   "cell_type": "markdown",
   "source": [
    "When faced with a large amount of data, first step is to compute summary statistics for the data in question. <br>\n",
    "The most common summary statistics are the mean and stadnard deviation."
   ],
   "metadata": {}
  },
  {
   "cell_type": "markdown",
   "source": [
    "# SUMMING THE VALUES IN AN ARRAYS"
   ],
   "metadata": {}
  },
  {
   "cell_type": "code",
   "execution_count": 1,
   "source": [
    "import numpy as np"
   ],
   "outputs": [],
   "metadata": {}
  },
  {
   "cell_type": "code",
   "execution_count": 2,
   "source": [
    "L = np.random.random(100)\n",
    "sum(L)"
   ],
   "outputs": [
    {
     "output_type": "execute_result",
     "data": {
      "text/plain": [
       "52.94796733977975"
      ]
     },
     "metadata": {},
     "execution_count": 2
    }
   ],
   "metadata": {}
  },
  {
   "cell_type": "code",
   "execution_count": 3,
   "source": [
    "np.sum(L)"
   ],
   "outputs": [
    {
     "output_type": "execute_result",
     "data": {
      "text/plain": [
       "52.94796733977974"
      ]
     },
     "metadata": {},
     "execution_count": 3
    }
   ],
   "metadata": {}
  },
  {
   "cell_type": "code",
   "execution_count": 4,
   "source": [
    "# numpy's version of the operation is computed \n",
    "# much more quickly\n",
    "\n",
    "%timeit sum(L)\n",
    "%timeit np.sum(L)"
   ],
   "outputs": [
    {
     "output_type": "stream",
     "name": "stdout",
     "text": [
      "33.2 µs ± 2.09 µs per loop (mean ± std. dev. of 7 runs, 10000 loops each)\n",
      "13.1 µs ± 1.04 µs per loop (mean ± std. dev. of 7 runs, 100000 loops each)\n"
     ]
    }
   ],
   "metadata": {}
  },
  {
   "cell_type": "markdown",
   "source": [
    "*sum* function and *np.sum* function are not identical"
   ],
   "metadata": {}
  },
  {
   "cell_type": "markdown",
   "source": [
    "# MINIMUM AND MAXIMUM"
   ],
   "metadata": {}
  },
  {
   "cell_type": "code",
   "execution_count": 5,
   "source": [
    "min(L), max(L)"
   ],
   "outputs": [
    {
     "output_type": "execute_result",
     "data": {
      "text/plain": [
       "(0.006593217608165336, 0.9917489134444515)"
      ]
     },
     "metadata": {},
     "execution_count": 5
    }
   ],
   "metadata": {}
  },
  {
   "cell_type": "code",
   "execution_count": 6,
   "source": [
    "np.min(L), np.max(L)"
   ],
   "outputs": [
    {
     "output_type": "execute_result",
     "data": {
      "text/plain": [
       "(0.006593217608165336, 0.9917489134444515)"
      ]
     },
     "metadata": {},
     "execution_count": 6
    }
   ],
   "metadata": {}
  },
  {
   "cell_type": "code",
   "execution_count": 7,
   "source": [
    "%timeit min(L)\n",
    "%timeit np.min(L)"
   ],
   "outputs": [
    {
     "output_type": "stream",
     "name": "stdout",
     "text": [
      "26.5 µs ± 671 ns per loop (mean ± std. dev. of 7 runs, 10000 loops each)\n",
      "12.3 µs ± 846 ns per loop (mean ± std. dev. of 7 runs, 100000 loops each)\n"
     ]
    }
   ],
   "metadata": {}
  },
  {
   "cell_type": "code",
   "execution_count": 8,
   "source": [
    "print(L.min(), L.max(), L.sum())"
   ],
   "outputs": [
    {
     "output_type": "stream",
     "name": "stdout",
     "text": [
      "0.006593217608165336 0.9917489134444515 52.94796733977974\n"
     ]
    }
   ],
   "metadata": {}
  },
  {
   "cell_type": "markdown",
   "source": [
    "Whenever possible, use the NumPy verion of the aggregates when operating NumPy arrays"
   ],
   "metadata": {}
  },
  {
   "cell_type": "markdown",
   "source": [
    "## MULTI DIMENSIONAL AGGREGATES"
   ],
   "metadata": {}
  },
  {
   "cell_type": "markdown",
   "source": [
    "Most common type is aggregation operation along a row or column"
   ],
   "metadata": {}
  },
  {
   "cell_type": "code",
   "execution_count": 9,
   "source": [
    "M = np.random.random((3, 4))\n",
    "print(M)"
   ],
   "outputs": [
    {
     "output_type": "stream",
     "name": "stdout",
     "text": [
      "[[0.08272266 0.61320821 0.31497861 0.59512849]\n",
      " [0.82502272 0.14962426 0.65074217 0.92536987]\n",
      " [0.97005157 0.70630795 0.81784549 0.45401628]]\n"
     ]
    }
   ],
   "metadata": {}
  },
  {
   "cell_type": "code",
   "execution_count": 10,
   "source": [
    "M.sum()"
   ],
   "outputs": [
    {
     "output_type": "execute_result",
     "data": {
      "text/plain": [
       "7.105018291947764"
      ]
     },
     "metadata": {},
     "execution_count": 10
    }
   ],
   "metadata": {}
  },
  {
   "cell_type": "markdown",
   "source": [
    "Aggregation functions take an additional argument specifying the axis along which aggregate is computed.<br>\n",
    "for column: axis = 0 <br>\n",
    "for row: axis = 1"
   ],
   "metadata": {}
  },
  {
   "cell_type": "code",
   "execution_count": 11,
   "source": [
    "M.min(axis=0)"
   ],
   "outputs": [
    {
     "output_type": "execute_result",
     "data": {
      "text/plain": [
       "array([0.08272266, 0.14962426, 0.31497861, 0.45401628])"
      ]
     },
     "metadata": {},
     "execution_count": 11
    }
   ],
   "metadata": {}
  },
  {
   "cell_type": "code",
   "execution_count": 12,
   "source": [
    "M.max(axis = 1)"
   ],
   "outputs": [
    {
     "output_type": "execute_result",
     "data": {
      "text/plain": [
       "array([0.61320821, 0.92536987, 0.97005157])"
      ]
     },
     "metadata": {},
     "execution_count": 12
    }
   ],
   "metadata": {}
  },
  {
   "cell_type": "markdown",
   "source": [
    "Axis keyword specifies the dimension of the array that will be collapsed, rather than the dimension that will be returned.<br>\n",
    "axis = 0 means that first axis (row in 2D) will be collapsed"
   ],
   "metadata": {}
  },
  {
   "cell_type": "markdown",
   "source": [
    "Many aggregation functions have a NaN-safe counterpart that computes the result while ignoring missing values."
   ],
   "metadata": {}
  },
  {
   "cell_type": "markdown",
   "source": [
    "# EXAMPLE"
   ],
   "metadata": {}
  },
  {
   "cell_type": "code",
   "execution_count": 13,
   "source": [
    "import pandas as pd\n",
    "data = pd.read_csv(\"president_heights.csv\")\n",
    "heights = np.array(data[\"height(cm)\"])\n",
    "print(heights)"
   ],
   "outputs": [
    {
     "output_type": "stream",
     "name": "stdout",
     "text": [
      "[189 170 189 163 183 171 185 168 173 183 173 173 175 178 183 193 178 173\n",
      " 174 183 183 168 170 178 182 180 183 178 182 188 175 179 183 193 182 183\n",
      " 177 185 188 188 182 185]\n"
     ]
    }
   ],
   "metadata": {}
  },
  {
   "cell_type": "code",
   "execution_count": 14,
   "source": [
    "print(\"Mean height: \", heights.mean())\n",
    "print(\"Standard deviation: \", heights.std())\n",
    "print(\"Minimum height: \", heights.min())\n",
    "print(\"Maximum height: \", heights.max())"
   ],
   "outputs": [
    {
     "output_type": "stream",
     "name": "stdout",
     "text": [
      "Mean height:  179.73809523809524\n",
      "Standard deviation:  6.931843442745892\n",
      "Minimum height:  163\n",
      "Maximum height:  193\n"
     ]
    }
   ],
   "metadata": {}
  },
  {
   "cell_type": "code",
   "execution_count": 15,
   "source": [
    "print(\"25th percentile: \", np.percentile(heights, 25))\n",
    "print(\"Median: \", np.median(heights))\n",
    "print(\"75th percentile: \", np.percentile(heights, 75))"
   ],
   "outputs": [
    {
     "output_type": "stream",
     "name": "stdout",
     "text": [
      "25th percentile:  174.25\n",
      "Median:  182.0\n",
      "75th percentile:  183.0\n"
     ]
    }
   ],
   "metadata": {}
  },
  {
   "cell_type": "code",
   "execution_count": 16,
   "source": [
    "%matplotlib inline\n",
    "import matplotlib.pyplot as plt\n",
    "import seaborn\n",
    "seaborn.set()"
   ],
   "outputs": [],
   "metadata": {}
  },
  {
   "cell_type": "code",
   "execution_count": 17,
   "source": [
    "plt.hist(heights)\n",
    "plt.title(\"Height distribution of US presidents\")\n",
    "plt.xlabel(\"height (cm)\")\n",
    "plt.ylabel(\"number\")"
   ],
   "outputs": [
    {
     "output_type": "execute_result",
     "data": {
      "text/plain": [
       "Text(0, 0.5, 'number')"
      ]
     },
     "metadata": {},
     "execution_count": 17
    },
    {
     "output_type": "display_data",
     "data": {
      "image/png": "[encoded data removed]",
      "text/plain": [
       "<Figure size 432x288 with 1 Axes>"
      ]
     },
     "metadata": {}
    }
   ],
   "metadata": {}
  },
  {
   "cell_type": "code",
   "execution_count": null,
   "source": [],
   "outputs": [],
   "metadata": {}
  },
  {
   "cell_type": "code",
   "execution_count": null,
   "source": [],
   "outputs": [],
   "metadata": {}
  },
  {
   "cell_type": "code",
   "execution_count": null,
   "source": [],
   "outputs": [],
   "metadata": {}
  }
 ],
 "metadata": {
  "orig_nbformat": 4,
  "language_info": {
   "name": "python",
   "version": "3.9.0",
   "mimetype": "text/x-python",
   "codemirror_mode": {
    "name": "ipython",
    "version": 3
   },
   "pygments_lexer": "ipython3",
   "nbconvert_exporter": "python",
   "file_extension": ".py"
  },
  "kernelspec": {
   "name": "python3",
   "display_name": "Python 3.9.0 64-bit"
  },
  "interpreter": {
   "hash": "aee8b7b246df8f9039afb4144a1f6fd8d2ca17a180786b69acc140d282b71a49"
  }
 },
 "nbformat": 4,
 "nbformat_minor": 2
}